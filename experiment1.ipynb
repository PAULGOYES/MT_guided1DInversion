{
  "cells": [
    {
      "cell_type": "code",
      "execution_count": null,
      "metadata": {
        "id": "78Z6_KyVIrpf"
      },
      "outputs": [],
      "source": [
        "import tensorflow as tf\n",
        "import numpy as np\n",
        "import matplotlib.pyplot as plt\n",
        "import keras\n",
        "\n",
        "# by Paul Goyes"
      ]
    },
    {
      "cell_type": "markdown",
      "metadata": {
        "id": "qg2PSH9NFci0"
      },
      "source": [
        "MT INVERSION"
      ]
    },
    {
      "cell_type": "code",
      "execution_count": null,
      "metadata": {
        "id": "d4Q_0F9iFiYj"
      },
      "outputs": [],
      "source": [
        "import numpy as np\n",
        "import matplotlib.pyplot as plt\n",
        "\n",
        "import math\n",
        "import cmath\n",
        "import time\n",
        "from scipy import constants\n",
        "#start = time.clock();\n",
        "# Please check the Magnetic Permeability (H/m)\n",
        "# at: https://docs.scipy.org/doc/scipy-0.14.0/reference/constants.html#module-scipy.constants\n",
        "mu = constants.mu_0; #Magnetic Permeability (H/m)\n",
        "def drawModel1D(ax, thickness=None, values=None, model=None, depths=None,\n",
        "                plot='plot',\n",
        "                xlabel=r'Resistivity $(\\Omega$m$)$', zlabel='Depth (m)',\n",
        "                z0=0,\n",
        "                **kwargs):\n",
        "    \"\"\"Draw 1d block model into axis ax.\n",
        "\n",
        "    Draw 1d block model into axis ax defined by values and thickness vectors\n",
        "    using plot function.\n",
        "    For log y cases, z0 should be set > 0 so that the default becomes 1.\n",
        "\n",
        "    Parameters\n",
        "    ----------\n",
        "    ax : mpl axes\n",
        "        Matplotlib Axes object to plot into.\n",
        "\n",
        "    values : iterable [float]\n",
        "        [N] Values for each layer plus lower background.\n",
        "\n",
        "    thickness : iterable [float]\n",
        "        [N-1] thickness for each layer. Either thickness or depths must be set.\n",
        "\n",
        "    depths : iterable [float]\n",
        "        [N-1] Values for layer depths (positive z-coordinates).\n",
        "        Either thickness or depths must be set.\n",
        "\n",
        "    model : iterable [float]\n",
        "        Shortcut to use default model definition.\n",
        "        thks = model[0:nLay]\n",
        "        values = model[nLay:]\n",
        "\n",
        "    plot : string\n",
        "        Matplotlib plotting function.\n",
        "        'plot', 'semilogx', 'semilogy', 'loglog'\n",
        "\n",
        "    xlabel : str\n",
        "        Label for x axis.\n",
        "\n",
        "    ylabel : str\n",
        "        Label for y axis.\n",
        "\n",
        "    z0 : float\n",
        "        Starting depth in m\n",
        "\n",
        "    **kwargs : dict()\n",
        "        Forwarded to the plot routine\n",
        "\n",
        "    Examples\n",
        "    --------\n",
        "    >>> import matplotlib.pyplot as plt\n",
        "    >>> import numpy as np\n",
        "    >>> import pygimli as pg\n",
        "    >>> # plt.style.use('ggplot')\n",
        "    >>> thk = [1, 4, 4]\n",
        "    >>> res = np.array([10., 5, 15, 50])\n",
        "    >>> fig, ax = plt.subplots()\n",
        "    >>> pg.viewer.mpl.drawModel1D(ax, values=res*5, depths=np.cumsum(thk),\n",
        "    ...                          plot='semilogx', color='blue')\n",
        "    >>> pg.viewer.mpl.drawModel1D(ax, values=res, thickness=thk, z0=1,\n",
        "    ...                          plot='semilogx', color='red')\n",
        "    >>> pg.wait()\n",
        "    \"\"\"\n",
        "    if model is not None:\n",
        "        nLayers = (len(model)-1)//2\n",
        "        thickness = model[:nLayers]\n",
        "        values = model[nLayers:]\n",
        "\n",
        "    if thickness is None and depths is None:\n",
        "        raise Exception(\"Either thickness or depths must be given.\")\n",
        "\n",
        "    nLayers = len(values)\n",
        "    px = np.zeros(nLayers * 2)\n",
        "    pz = np.zeros(nLayers * 2)\n",
        "\n",
        "    if thickness is not None:\n",
        "        z1 = np.cumsum(thickness) + z0\n",
        "    else:\n",
        "        z1 = depths\n",
        "\n",
        "    for i in range(nLayers):\n",
        "        px[2 * i] = values[i]\n",
        "        px[2 * i + 1] = values[i]\n",
        "\n",
        "        if i == nLayers - 1:\n",
        "            pz[2 * i + 1] = z1[i - 1] * 1.2\n",
        "        else:\n",
        "            pz[2 * i + 1] = z1[i]\n",
        "            pz[2 * i + 2] = z1[i]\n",
        "\n",
        "    if plot == 'loglog' or plot == 'semilogy':\n",
        "        if z0 == 0:\n",
        "            pz[0] = z1[0] / 2.\n",
        "        else:\n",
        "            pz[0] = z0\n",
        "\n",
        "    try:\n",
        "        plot = getattr(ax, plot)\n",
        "        plot(px, pz+z0, **kwargs)\n",
        "    except BaseException as e:\n",
        "        print(e)\n",
        "\n",
        "    ax.set_ylabel(zlabel)\n",
        "    ax.set_xlabel(xlabel)\n",
        "    # assume positive depths pointing upward\n",
        "    ax.set_ylim(pz[-1], pz[0])\n",
        "    ax.grid(True)"
      ]
    },
    {
      "cell_type": "code",
      "execution_count": null,
      "metadata": {
        "id": "haoST-xZFdP5"
      },
      "outputs": [],
      "source": [
        "def randomModel(n=10,depthmax=20000,res=(0,3)):\n",
        "  indx_rho = np.random.choice(200,n,replace=True)\n",
        "  # # in Ohm-meter np.abs(np.random.normal(loc=1,scale=2,size=10))/3\n",
        "  res = np.random.uniform(res[0], res[1], 200)\n",
        "  resistivities = res[indx_rho];\n",
        "\n",
        "  dz =   depthmax // (n-1)\n",
        "  z = np.arange(n)*dz\n",
        "  thicknesses = np.diff(z)\n",
        "\n",
        "\n",
        "  return (10**resistivities,thicknesses)"
      ]
    },
    {
      "cell_type": "code",
      "source": [
        "### from : Exploring nonlinear inversions: A 1D magnetotelluric example\n",
        "\n",
        "layer_tops = np.r_[0., -600., -1991., -5786., -9786.]  # in m\n",
        "rho_layers = np.r_[250., 25, 100., 10., 25.]\n",
        "layer_thicknesses = np.diff(-layer_tops)\n",
        "\n",
        "fig, ax = plt.subplots(figsize=(3,4))\n",
        "drawModel1D(ax, layer_thicknesses, rho_layers,plot='semilogx')\n",
        "plt.xlim([1,10**3])\n",
        "print(layer_thicknesses)\n",
        "\n",
        "synthk,synres = layer_thicknesses,rho_layers"
      ],
      "metadata": {
        "colab": {
          "base_uri": "https://localhost:8080/",
          "height": 419
        },
        "id": "BxhWJVZHXnXZ",
        "outputId": "31809e25-8604-4787-c195-77c583d26656"
      },
      "execution_count": null,
      "outputs": [
        {
          "output_type": "stream",
          "name": "stdout",
          "text": [
            "[ 600. 1391. 3795. 4000.]\n"
          ]
        },
        {
          "output_type": "display_data",
          "data": {
            "text/plain": [
              "<Figure size 300x400 with 1 Axes>"
            ],
            "image/png": "[encoded data removed]"
          },
          "metadata": {}
        }
      ]
    },
    {
      "cell_type": "code",
      "execution_count": null,
      "metadata": {
        "id": "HyDOL3QnZJpQ"
      },
      "outputs": [],
      "source": [
        "############# from simpeg 10.7 example\n",
        "#layer_tops = np.r_[0., -600., -1991., -5786., -9786.] #[::-1]  # in m\n",
        "#layer_thicknesses = np.diff(-layer_tops)\n",
        "#rho_layers = np.r_[250., 25, 100., 10.,25.] #[::-1]\n",
        "\n",
        "#fig, ax = plt.subplots(figsize=(3,4))\n",
        "#drawModel1D(ax, layer_thicknesses, rho_layers,plot='semilogx')\n",
        "#plt.xlim([1,10**3])\n",
        "\n",
        "#synthk,synres = layer_thicknesses,rho_layers"
      ]
    },
    {
      "cell_type": "code",
      "execution_count": null,
      "metadata": {
        "colab": {
          "base_uri": "https://localhost:8080/",
          "height": 454
        },
        "id": "bS_vv-DeFdwB",
        "outputId": "0e241ab4-49ab-471e-ee91-8882c6617343"
      },
      "outputs": [
        {
          "output_type": "stream",
          "name": "stdout",
          "text": [
            "[2500 2500]\n",
            "[ 32.2775453    1.51156793 544.96506072]\n"
          ]
        },
        {
          "output_type": "execute_result",
          "data": {
            "text/plain": [
              "(1, 1000)"
            ]
          },
          "metadata": {},
          "execution_count": 6
        },
        {
          "output_type": "display_data",
          "data": {
            "text/plain": [
              "<Figure size 300x400 with 1 Axes>"
            ],
            "image/png": "[encoded data removed]"
          },
          "metadata": {}
        }
      ],
      "source": [
        "np.random.seed(1234) # for reproducibility Umair 123456\n",
        "synres,synthk = randomModel(n=3,depthmax=5000)\n",
        "print(synthk)\n",
        "print(synres)\n",
        "# plot resistivity model\n",
        "\n",
        "fig, ax = plt.subplots(figsize=(3,4))\n",
        "drawModel1D(ax, synthk, synres,plot='semilogx')\n",
        "plt.xlim([1,10**3])"
      ]
    },
    {
      "cell_type": "code",
      "execution_count": null,
      "metadata": {
        "colab": {
          "base_uri": "https://localhost:8080/"
        },
        "id": "nwPa5rvlfX4D",
        "outputId": "2d530c82-acc1-4b07-9dcd-341f3c93b74f"
      },
      "outputs": [
        {
          "output_type": "execute_result",
          "data": {
            "text/plain": [
              "array([1250, 1250, 1250, 1250])"
            ]
          },
          "metadata": {},
          "execution_count": 28
        }
      ],
      "source": [
        "_, layer_thicknesses_inv =  randomModel(n=5,depthmax=5000)\n",
        "layer_thicknesses_inv"
      ]
    },
    {
      "cell_type": "code",
      "execution_count": null,
      "metadata": {
        "colab": {
          "base_uri": "https://localhost:8080/"
        },
        "id": "0xO5hjCK_tJE",
        "outputId": "25935a4f-1299-43cc-cf24-ab42c8a9d6b9"
      },
      "outputs": [
        {
          "output_type": "execute_result",
          "data": {
            "text/plain": [
              "5000"
            ]
          },
          "metadata": {},
          "execution_count": 29
        }
      ],
      "source": [
        "np.sum(synthk)"
      ]
    },
    {
      "cell_type": "code",
      "execution_count": null,
      "metadata": {
        "id": "rmbh5NfbFl8V"
      },
      "outputs": [],
      "source": [
        "#@tf.function\n",
        "def MTforwardModelTF(resistivities):\n",
        "    frequencies =tf.cast(np.logspace(-3, 2, 31),dtype=tf.complex128)\n",
        "    thicknesses =tf.cast(layer_thicknesses_inv,dtype=tf.complex128)\n",
        "    n = len(resistivities)\n",
        "    resistivities = tf.cast(resistivities,dtype=tf.complex128)\n",
        "    #apparentResistivity = tf.TensorArray(dtype=tf.float64, size=0, dynamic_size=True)\n",
        "    phase = tf.TensorArray(dtype=tf.complex128, size=0, dynamic_size=True)\n",
        "\n",
        "    for frequency in frequencies:\n",
        "        w = 2 * math.pi * frequency\n",
        "        impedances = tf.TensorArray(dtype=tf.complex128, size=n)\n",
        "\n",
        "        # Compute basement impedance\n",
        "        impedances = impedances.write(n-1, tf.sqrt(w  *mu*1j * resistivities[n-1]))\n",
        "\n",
        "        for j in range(n-2, -1, -1):\n",
        "            resistivity = resistivities[j]\n",
        "            thickness = thicknesses[j]\n",
        "\n",
        "            # Compute intrinsic impedance of current layer\n",
        "            dj = tf.sqrt((w * mu*(1.0/resistivity)) * 1j)\n",
        "            wj = dj * resistivity\n",
        "\n",
        "            # Calculate Exponential factor from intrinsic impedance\n",
        "            ej = tf.exp(-2 * thickness * dj)\n",
        "\n",
        "            # Calculate reflection coefficient using current layer intrinsic impedance\n",
        "            # and the below layer impedance\n",
        "            belowImpedance = impedances.read(j + 1)\n",
        "            rj = (wj - belowImpedance) / (wj + belowImpedance)\n",
        "            re = rj * ej\n",
        "            Zj = wj * ((1 - re) / (1 + re))\n",
        "            impedances = impedances.write(j, Zj)\n",
        "\n",
        "        # Compute apparent resistivity from top layer impedance\n",
        "        Z = impedances.read(0)\n",
        "        absZ = tf.abs(Z)\n",
        "        phase = phase.write(phase.size(), Z)\n",
        "\n",
        "    return phase.stack()\n"
      ]
    },
    {
      "cell_type": "code",
      "execution_count": null,
      "metadata": {
        "id": "gfI1FhfJGNTB"
      },
      "outputs": [],
      "source": [
        "z_obs = MTforwardModelTF(synres)"
      ]
    },
    {
      "cell_type": "code",
      "execution_count": null,
      "metadata": {
        "id": "SpjVAcShcffk",
        "colab": {
          "base_uri": "https://localhost:8080/"
        },
        "outputId": "a65690ed-3136-47ff-9dd1-bf7c3cda8820"
      },
      "outputs": [
        {
          "output_type": "stream",
          "name": "stdout",
          "text": [
            "Model: \"model_4\"\n",
            "__________________________________________________________________________________________________\n",
            " Layer (type)                Output Shape                 Param #   Connected to                  \n",
            "==================================================================================================\n",
            " input_5 (InputLayer)        [(None, 31)]                 0         []                            \n",
            "                                                                                                  \n",
            " dense_28 (Dense)            (None, 256)                  8192      ['input_5[0][0]']             \n",
            "                                                                                                  \n",
            " dense_29 (Dense)            (None, 256)                  65792     ['dense_28[0][0]']            \n",
            "                                                                                                  \n",
            " add_20 (Add)                (None, 256)                  0         ['dense_28[0][0]',            \n",
            "                                                                     'dense_29[0][0]']            \n",
            "                                                                                                  \n",
            " dense_30 (Dense)            (None, 256)                  65792     ['add_20[0][0]']              \n",
            "                                                                                                  \n",
            " add_21 (Add)                (None, 256)                  0         ['add_20[0][0]',              \n",
            "                                                                     'dense_30[0][0]']            \n",
            "                                                                                                  \n",
            " dense_31 (Dense)            (None, 256)                  65792     ['add_21[0][0]']              \n",
            "                                                                                                  \n",
            " add_22 (Add)                (None, 256)                  0         ['add_21[0][0]',              \n",
            "                                                                     'dense_31[0][0]']            \n",
            "                                                                                                  \n",
            " dense_32 (Dense)            (None, 256)                  65792     ['add_22[0][0]']              \n",
            "                                                                                                  \n",
            " add_23 (Add)                (None, 256)                  0         ['add_22[0][0]',              \n",
            "                                                                     'dense_32[0][0]']            \n",
            "                                                                                                  \n",
            " dense_33 (Dense)            (None, 256)                  65792     ['add_23[0][0]']              \n",
            "                                                                                                  \n",
            " add_24 (Add)                (None, 256)                  0         ['add_23[0][0]',              \n",
            "                                                                     'dense_33[0][0]']            \n",
            "                                                                                                  \n",
            " dense_34 (Dense)            (None, 5)                    1285      ['add_24[0][0]']              \n",
            "                                                                                                  \n",
            "==================================================================================================\n",
            "Total params: 338437 (1.29 MB)\n",
            "Trainable params: 338437 (1.29 MB)\n",
            "Non-trainable params: 0 (0.00 Byte)\n",
            "__________________________________________________________________________________________________\n"
          ]
        }
      ],
      "source": [
        "import tensorflow as tf\n",
        "from tensorflow import keras\n",
        "from tensorflow.keras.layers import Input, Dense\n",
        "\n",
        "def build_model(input_dim, output_dim, nc, ly):\n",
        "    #regout = OuterLayer()\n",
        "    # Define the input layer\n",
        "\n",
        "\n",
        "\n",
        "    input_layer = Input(shape=(input_dim,))\n",
        "    #previous_layer = input_layer\n",
        "    previous_layer = Dense(nc, activation='relu')(input_layer)\n",
        "    # Initialize a list to hold the hidden layers tf.keras.layers.LeakyReLU()\n",
        "    hidden_layers = []\n",
        "\n",
        "    # Create the hidden layers\n",
        "    for _ in range(ly):\n",
        "        hidden_layer = Dense(nc, activation='relu',kernel_regularizer='l1')(previous_layer)\n",
        "        hidden_layers.append(hidden_layer)\n",
        "        previous_layer = keras.layers.add([previous_layer, hidden_layer])  # Sum with the previous layer\n",
        "\n",
        "    # Add the output layer\n",
        "    output_layer = Dense(output_dim, activation='sigmoid')(previous_layer)\n",
        "    #out = regout([output_layer,input_layer])\n",
        "\n",
        "    # Create the model\n",
        "    model = keras.Model(inputs=input_layer, outputs=output_layer)\n",
        "\n",
        "    return model\n",
        "\n",
        "# Example usage:\n",
        "input_dim = 31  # Adjust based on your input size\n",
        "output_dim = 5  # Adjust based on your output size\n",
        "nc = 128*2  # Number of channels per layer\n",
        "ly = 5  # Number of layers\n",
        "\n",
        "MTaeNET = build_model(input_dim, output_dim, nc, ly)\n",
        "\n",
        "# Compile the model as needed\n",
        "#model.compile(optimizer='adam', loss='mean_squared_error')  # Adjust the loss and optimizer as needed\n",
        "\n",
        "\n",
        "#tf.keras.utils.plot_model(MTaeNET,show_shapes=True)\n",
        "MTaeNET.summary()"
      ]
    },
    {
      "cell_type": "code",
      "execution_count": null,
      "metadata": {
        "colab": {
          "base_uri": "https://localhost:8080/"
        },
        "id": "mh5ogeh9eJvd",
        "outputId": "25c36b8e-8355-47b0-8367-67db19f306b8"
      },
      "outputs": [
        {
          "output_type": "execute_result",
          "data": {
            "text/plain": [
              "<tf.Tensor: shape=(), dtype=complex128, numpy=(0.010322891370840873-3.498074850631016e-20j)>"
            ]
          },
          "metadata": {},
          "execution_count": 39
        }
      ],
      "source": [
        "0.5*tf.norm(z_obs -   MTforwardModelTF(10**(3*tf.reshape(MTaeNET(tf.reshape(tf.abs(z_obs),(1,-1))),(-1,))))  ,2)\n",
        "#MTforwardModelTF(1000*tf.reshape(MTaeNET(tf.reshape(tf.abs(z_obs),(1,-1))),(-1,)))\n",
        "#1000*tf.reshape(MTaeNET(tf.reshape(tf.abs(z_obs),(1,-1))),(-1,))\n",
        "#10**(3*tf.reshape(MTaeNET(tf.reshape(tf.abs(z_obs),(1,-1))),(-1,)))\n",
        "#MTaeNET(tf.reshape(tf.abs(z_obs),(1,-1)))\n"
      ]
    },
    {
      "cell_type": "code",
      "execution_count": null,
      "metadata": {
        "id": "WEaqiHTHbYQt"
      },
      "outputs": [],
      "source": [
        "#L2model= MT.r.numpy()\n",
        "#L2model = tf.constant(L2model,dtype=tf.float64)\n",
        "#L2model"
      ]
    },
    {
      "cell_type": "code",
      "execution_count": null,
      "metadata": {
        "id": "KbszfahQct_T"
      },
      "outputs": [],
      "source": [
        "initial_learning_rate = 1e-3\n",
        "optimizern = tf.keras.optimizers.AdamW(learning_rate=initial_learning_rate)\n",
        "\n",
        "@tf.function\n",
        "def trainDL():\n",
        "\n",
        "  with tf.GradientTape() as tape:\n",
        "    res_pred = 10**(3*MTaeNET(tf.reshape(tf.abs(z_obs),(1,-1)), training=True))\n",
        "    #modelreg = tf.cast(1e-3*tf.norm( tf.cast(tf.math.log(L2model),tf.float64)-tf.cast(tf.math.log(tf.reshape(res_pred,(-1,))),tf.float64)  ,2 ),dtype=tf.float64 )\n",
        "    loss = tf.math.real(0.5*tf.norm(tf.math.log(z_obs) - tf.math.log(MTforwardModelTF(tf.reshape(res_pred,(-1,)))) ,2)) #+ modelreg\n",
        "\n",
        "  grads = tape.gradient(loss, MTaeNET.trainable_weights)\n",
        "  optimizern.apply_gradients(zip(grads, MTaeNET.trainable_weights))\n",
        "\n",
        "  return loss\n",
        "  #print(res_pred)\n",
        "\n",
        "\n"
      ]
    },
    {
      "cell_type": "code",
      "execution_count": null,
      "metadata": {
        "colab": {
          "base_uri": "https://localhost:8080/"
        },
        "id": "dzBEDMVOGqD8",
        "outputId": "9f610252-94be-4657-b3d0-80c901b74f6d"
      },
      "outputs": [
        {
          "output_type": "stream",
          "name": "stderr",
          "text": [
            "\r  0%|          | 0/500 [00:00<?, ?it/s]WARNING:tensorflow:You are casting an input of type complex128 to an incompatible dtype float32.  This will discard the imaginary part and may not be what you intended.\n",
            "WARNING:tensorflow:You are casting an input of type complex128 to an incompatible dtype float32.  This will discard the imaginary part and may not be what you intended.\n",
            "100%|██████████| 500/500 [01:25<00:00,  5.87it/s, LOSS=0.0304]\n"
          ]
        }
      ],
      "source": [
        "\n",
        "from tqdm import trange\n",
        "loss = []\n",
        "pbar = trange(500)\n",
        "for i in pbar:\n",
        "  los = trainDL()\n",
        "  pbar.set_postfix(LOSS=los.numpy())\n",
        "  loss.append(los.numpy())"
      ]
    },
    {
      "cell_type": "code",
      "execution_count": null,
      "metadata": {
        "colab": {
          "base_uri": "https://localhost:8080/"
        },
        "id": "dWvewYVgk7tc",
        "outputId": "383db4e8-4ccd-46db-9adf-a45bb430dfd3"
      },
      "outputs": [
        {
          "output_type": "execute_result",
          "data": {
            "text/plain": [
              "<tf.Tensor: shape=(1, 5), dtype=float32, numpy=\n",
              "array([[ 31.740768 ,  32.100464 ,   1.5139804,   1.5166366, 540.274    ]],\n",
              "      dtype=float32)>"
            ]
          },
          "metadata": {},
          "execution_count": 42
        }
      ],
      "source": [
        "res_pred = 10**(3*MTaeNET(tf.reshape(tf.abs(z_obs),(1,-1)), training=False))\n",
        "res_pred"
      ]
    },
    {
      "cell_type": "code",
      "execution_count": null,
      "metadata": {
        "id": "kJ8Woyufmrpm"
      },
      "outputs": [],
      "source": [
        "state=[]\n",
        "@tf.function\n",
        "def train(MT,optimizer):\n",
        "  with tf.GradientTape(persistent=True) as t2:\n",
        "    with tf.GradientTape(persistent=True) as tape:\n",
        "      z_pred = MTforwardModelTF(MT.r)\n",
        "      loss = tf.math.real(0.5*tf.norm( tf.math.log(z_pred) - tf.math.log(z_obs) ,2)) #+ 0.0001*tf.reduce_sum(tf.square(MT.r[1:]-MT.r[:-1]))\n",
        "\n",
        "\n",
        "    # Compute the gradient inside the outer `t2` context manager\n",
        "    # which means the gradient computation is differentiable as well.\n",
        "    grads = tape.gradient(loss, MT.trainable_variables)\n",
        "\n",
        "  #d2z_dx2 = t2.jacobian(grads, MT.r,experimental_use_pfor=False)\n",
        "\n",
        "\n",
        "\n",
        "  optimizer.apply_gradients(zip(grads, MT.trainable_variables))\n",
        "  #n_params = tf.reduce_prod(MT.r.shape)\n",
        "  #g_vec = tf.reshape(grads, [n_params, 1])\n",
        "  #h_mat = tf.reshape(d2z_dx2, [n_params, n_params])\n",
        "\n",
        "  #eps = 1e-3\n",
        "  #eye_eps = tf.cast(tf.eye(h_mat.shape[0])*eps,dtype=tf.float64)\n",
        "  #update = tf.linalg.solve(h_mat + eye_eps, g_vec)\n",
        "  #update = tf.tensordot(tf.linalg.inv(h_mat + eye_eps),g_vec,axes=1)\n",
        "  #print(update)\n",
        "  #MT.r.assign_sub(tf.reshape(update,MT.r.shape))\n",
        "  #print(tf.reshape(update,m.x.shape))\n",
        "  return loss"
      ]
    },
    {
      "cell_type": "code",
      "execution_count": null,
      "metadata": {
        "colab": {
          "base_uri": "https://localhost:8080/"
        },
        "id": "DVQXP_RHsRb9",
        "outputId": "4e10e79f-6354-4c71-8a94-337fde7630ff"
      },
      "outputs": [
        {
          "output_type": "stream",
          "name": "stderr",
          "text": [
            "WARNING:tensorflow:You are casting an input of type complex128 to an incompatible dtype float64.  This will discard the imaginary part and may not be what you intended.\n",
            "WARNING:tensorflow:You are casting an input of type complex128 to an incompatible dtype float64.  This will discard the imaginary part and may not be what you intended.\n"
          ]
        },
        {
          "output_type": "execute_result",
          "data": {
            "text/plain": [
              "5"
            ]
          },
          "metadata": {},
          "execution_count": 48
        }
      ],
      "source": [
        "optimizer = keras.optimizers.AdamW(learning_rate=5e-1)\n",
        "\n",
        "MT = tf.Module()\n",
        "init_val = 100*tf.ones(5,dtype=tf.float64)\n",
        "#init_val = tf.cast(tf.reshape(res_pred,(-1,)),dtype=tf.float64) #solution from DL\n",
        "\n",
        "MT.r = tf.Variable(initial_value=init_val)\n",
        "\n",
        "\n",
        "train(MT,optimizer)\n",
        "#init_val\n",
        "len(init_val)"
      ]
    },
    {
      "cell_type": "code",
      "execution_count": null,
      "metadata": {
        "colab": {
          "base_uri": "https://localhost:8080/"
        },
        "id": "7uErRlzqnRod",
        "outputId": "c50f6190-411c-4085-8a0d-428225925779"
      },
      "outputs": [
        {
          "output_type": "stream",
          "name": "stderr",
          "text": [
            "100%|██████████| 500/500 [01:21<00:00,  6.13it/s, LOSS=0.244]\n"
          ]
        }
      ],
      "source": [
        "from tqdm import trange\n",
        "\n",
        "pbar = trange(500)\n",
        "\n",
        "loss_l2 = []\n",
        "\n",
        "state=[]\n",
        "init_val = tf.cast(tf.reshape(res_pred,(-1,)),dtype=tf.float64)\n",
        "for i in pbar:\n",
        "  los = train(MT,optimizer)\n",
        "  pbar.set_postfix(LOSS=los.numpy())\n",
        "  loss_l2.append(los.numpy())"
      ]
    },
    {
      "cell_type": "code",
      "execution_count": null,
      "metadata": {
        "colab": {
          "base_uri": "https://localhost:8080/",
          "height": 429
        },
        "id": "RL4nPySDHWcZ",
        "outputId": "631554c3-88c8-4a10-c9af-eb14436a9038"
      },
      "outputs": [
        {
          "output_type": "display_data",
          "data": {
            "text/plain": [
              "<Figure size 600x400 with 1 Axes>"
            ],
            "image/png": "[encoded data removed]"
          },
          "metadata": {}
        }
      ],
      "source": [
        "fig, ax = plt.subplots(1, 1, figsize=(6, 4))\n",
        "ax.loglog(np.logspace(-3, 2, 31),z_obs,'k',label='observed',linewidth=2.5)\n",
        "ax.loglog(np.logspace(-3, 2, 31),MTforwardModelTF(MT.r.numpy()),'ob',markerfacecolor=\"None\",label='Z L2')\n",
        "ax.loglog(np.logspace(-3, 2, 31),MTforwardModelTF(tf.reshape(res_pred,(-1,))),'--r',label='Z DL')\n",
        "\n",
        "ax.set_ylabel(\"$|\\mathbf{Z}(\\omega)|$\", fontsize=12)\n",
        "ax.set_xlabel(\"Frequency (Hz)\", fontsize=10)\n",
        "plt.legend()\n",
        "plt.tight_layout()\n",
        "plt.title('Impedance response')\n",
        "\n",
        "#plt.savefig('Z_response.pdf',dpi=300)\n",
        "plt.show()"
      ]
    },
    {
      "cell_type": "code",
      "execution_count": null,
      "metadata": {
        "colab": {
          "base_uri": "https://localhost:8080/",
          "height": 522
        },
        "id": "PKSy5Ty7Ju0K",
        "outputId": "869dbf2b-b21d-4493-feb7-62edd530a611"
      },
      "outputs": [
        {
          "output_type": "stream",
          "name": "stdout",
          "text": [
            "0.03041655840130875\n",
            "0.24404001216672427\n"
          ]
        },
        {
          "output_type": "display_data",
          "data": {
            "text/plain": [
              "<Figure size 1000x500 with 2 Axes>"
            ],
            "image/png": "[encoded data removed]"
          },
          "metadata": {}
        }
      ],
      "source": [
        "plt.figure(figsize=(10,5))\n",
        "plt.subplot(121)\n",
        "plt.plot(loss,'r',label='loss_DL')\n",
        "plt.title('Data misfit DL')\n",
        "plt.xlabel('iterations')\n",
        "\n",
        "\n",
        "plt.subplot(122)\n",
        "plt.plot(loss_l2,'b',label='Loss L2-norm')\n",
        "plt.ylabel('$| \\mathbf{d}_{\\mathrm{obs}}- \\mathcal{F}[\\mathbf{m}] |_2$')\n",
        "plt.title('Data misfit L2')\n",
        "\n",
        "#plt.savefig('datamisfit.pdf',dpi=300)\n",
        "print(loss[-1])\n",
        "print(loss_l2[-1])"
      ]
    },
    {
      "cell_type": "code",
      "execution_count": null,
      "metadata": {
        "colab": {
          "base_uri": "https://localhost:8080/"
        },
        "id": "D7GDaxHpNAhL",
        "outputId": "3d498132-5b2f-4d5a-8b21-7102c29a8c1e"
      },
      "outputs": [
        {
          "output_type": "execute_result",
          "data": {
            "text/plain": [
              "<tf.Variable 'Variable:0' shape=(10,) dtype=float64, numpy=\n",
              "array([29.39349974, 24.3945688 , 24.56288424, 25.43489776, 26.23946282,\n",
              "       26.96112027, 27.58581538, 28.09937921, 28.48797303, 91.61595193])>"
            ]
          },
          "metadata": {},
          "execution_count": 25
        }
      ],
      "source": [
        "MT.r\n",
        "\n"
      ]
    },
    {
      "cell_type": "code",
      "execution_count": null,
      "metadata": {
        "colab": {
          "base_uri": "https://localhost:8080/",
          "height": 402
        },
        "id": "2yEPH6QyNQx_",
        "outputId": "0a801a7b-76e3-42d8-9ca5-8a13c3d46a8e"
      },
      "outputs": [
        {
          "output_type": "display_data",
          "data": {
            "text/plain": [
              "<Figure size 300x400 with 1 Axes>"
            ],
            "image/png": "[encoded data removed]"
          },
          "metadata": {}
        }
      ],
      "source": [
        "#layer_thicknesses_inv\n",
        "\n",
        "fig, ax = plt.subplots(figsize=(3,4))\n",
        "drawModel1D(ax, synthk, synres,plot='semilogx',color='black',linewidth=3.1)\n",
        "\n",
        "drawModel1D(ax, layer_thicknesses_inv, MT.r.numpy(),plot='semilogx',color='blue',linestyle='dashed')\n",
        "drawModel1D(ax, layer_thicknesses_inv, tf.reshape(res_pred,(-1,)).numpy(),plot='semilogx',color='red',linestyle='dashed')\n",
        "#\n",
        "\n",
        "plt.xlim([1,10**3])\n",
        "\n",
        "#plt.savefig('inverted_model.pdf',dpi=300)"
      ]
    },
    {
      "cell_type": "code",
      "source": [],
      "metadata": {
        "id": "vlxOGmGvaolA"
      },
      "execution_count": null,
      "outputs": []
    }
  ],
  "metadata": {
    "accelerator": "GPU",
    "colab": {
      "provenance": []
    },
    "kernelspec": {
      "display_name": "Python 3",
      "name": "python3"
    },
    "language_info": {
      "name": "python"
    }
  },
  "nbformat": 4,
  "nbformat_minor": 0
}